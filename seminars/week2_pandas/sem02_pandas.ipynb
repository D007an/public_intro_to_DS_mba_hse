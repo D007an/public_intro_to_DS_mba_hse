{
 "cells": [
  {
   "cell_type": "markdown",
   "metadata": {},
   "source": [
    "<img align=\"center\" src=\"https://raw.githubusercontent.com/FUlyankin/Parsers/master/images%20/cats.jpg\" height=\"1200\" width=\"1200\"> \n",
    "\n",
    "# Семинар 2:  продолжаем врываться в python\n",
    "\n",
    "Продолжаем аккуратно врываться в python и решать на нём различные задачки. __Наша цель на сегодня:__ \n",
    "\n",
    "* Повторить подвиг с запуском анакоды быстрее, чем за 20 минут...\n",
    "* Немного вспомнить что мы делали в прошлый раз, а ещё в домашке\n",
    "* Поработать с таблицами в pandas и поискать ответы на разные глупые вопросы\n",
    "\n",
    "В качестве датасета мы будем использовать датасет по ... вашим страницам вконтакте. Ох! Сколько же всего интересного можно найти в этом датасете..."
   ]
  },
  {
   "cell_type": "markdown",
   "metadata": {},
   "source": [
    "# 0. Разминка\n",
    "\n",
    "Немного вспомним, чем именно мы занимались на предыдущем семинаре! \n",
    "\n",
    "<img src=\"https://steemitimages.com/0x0/https://media.makeameme.org/created/repeat-repeat-repeat-5984a6.jpg\" height=\"350\" width=\"350\">"
   ]
  },
  {
   "cell_type": "markdown",
   "metadata": {},
   "source": [
    "Начнём с разминочной задачки :) \n",
    "\n",
    "## Разминочная задачка\n",
    "\n",
    "У Дори в глубинах океана есть кучка камней. Часть камней из этой кучки драгоценные. Недавно она пересчитала все драгоценные и забыла сколько их. Чтобы больше не забывать, Дори решила написать на питоне функцию, которая будет считать камни за неё.\n",
    "\n",
    "Напишите на python функцию, которая принимает на вход список драгоценных камней $J$ и список камней, которые есть у Дори $S$. На выход функция возвращает число драгоценных камней в запасах Дори.\n",
    "\n",
    "__Примеры:__ \n",
    "\n",
    "> Input: J = \"aA\", S = \"aAAbbbb\" <br />\n",
    "Output: 3\n",
    "\n",
    "Тут драгоценными считаются камни a и A. У Дори есть камни aAAbbbb. Среди них три драгоценных, aAA.\n",
    "\n",
    ">Input: J = \"z\", S = \"ZZ\" <br />\n",
    "Output: 0\n",
    "\n",
    "Драгоценными мы считаем только камень z. У Дори два камня, оба обычные."
   ]
  },
  {
   "cell_type": "code",
   "execution_count": null,
   "metadata": {},
   "outputs": [],
   "source": [
    "def numJewelsInStones(J, S):\n",
    "    \n",
    "    ### ╰( ͡° ͜ʖ ͡° )つ▬▬ι═══════  bzzzzzzzzzz\n",
    "    \n",
    "    return cn"
   ]
  },
  {
   "cell_type": "code",
   "execution_count": null,
   "metadata": {},
   "outputs": [],
   "source": [
    "J = \"aA\"\n",
    "S = \"aAAbbbb\"\n",
    "\n",
    "numJewelsInStones(J, S)"
   ]
  },
  {
   "cell_type": "markdown",
   "metadata": {},
   "source": [
    "# 1. Пакеты\n",
    "\n",
    "![](http://advaitaworld.com/uploads/images/00/13/28/2012/06/15/36a8a1.png)\n",
    "\n",
    "Разработчики языка Python придерживаются определённой философии программирования, называемой «The Zen of Python» («Дзен Питона», или «Дзен Пайтона»). \n",
    "\n",
    "Её текст можно поспотреть с помощью комнды import this (работает один раз за сессию). "
   ]
  },
  {
   "cell_type": "code",
   "execution_count": null,
   "metadata": {},
   "outputs": [],
   "source": [
    "import this"
   ]
  },
  {
   "cell_type": "markdown",
   "metadata": {},
   "source": [
    "Команда import позволяет подгрузить не только философию, но и какой-нибудь пакет с какими-нибудь командами.\n",
    "\n",
    "Попробуем подгрузить несколькими разными способами пакет math."
   ]
  },
  {
   "cell_type": "code",
   "execution_count": null,
   "metadata": {},
   "outputs": [],
   "source": [
    "import math \n",
    "math.sqrt(4)"
   ]
  },
  {
   "cell_type": "markdown",
   "metadata": {},
   "source": [
    "При таком способе загрузки обращение к каждой команде модуля делается через точку. В Python работает табуляция. Если написать название модуля, поставить точку, а после нажать Tab, то Jupyter Notebook подскажет какие ещё команды есть внутри модуля."
   ]
  },
  {
   "cell_type": "code",
   "execution_count": null,
   "metadata": {},
   "outputs": [],
   "source": [
    "math.sin(20)"
   ]
  },
  {
   "cell_type": "markdown",
   "metadata": {},
   "source": [
    "Приведенный синтаксис может оказаться неудобным, если вам часто приходится вызывать какие-то математические функции. Чтобы не писать каждый раз слово «math», можно импортировать из модуля конкретные функции."
   ]
  },
  {
   "cell_type": "code",
   "execution_count": null,
   "metadata": {},
   "outputs": [],
   "source": [
    "from math import sqrt\n",
    "\n",
    "sqrt(4)"
   ]
  },
  {
   "cell_type": "markdown",
   "metadata": {},
   "source": [
    "По аналогии можно импортировать из модуля абсолютно все функции, которые в нём есть с помощью команды *"
   ]
  },
  {
   "cell_type": "code",
   "execution_count": null,
   "metadata": {},
   "outputs": [],
   "source": [
    "from math import *\n",
    "pi"
   ]
  },
  {
   "cell_type": "markdown",
   "metadata": {},
   "source": [
    "Также можно подгрузить какой-нибудь модуль или пакет, но при этом изменить у него название на более короткое и пользоваться им."
   ]
  },
  {
   "cell_type": "code",
   "execution_count": null,
   "metadata": {},
   "outputs": [],
   "source": [
    "import math as mh\n",
    "mh.sqrt(4)"
   ]
  },
  {
   "cell_type": "markdown",
   "metadata": {},
   "source": [
    "# 2. Все любят панд\n",
    "\n",
    "Давайте подгрузим пакет для работы с таблицами, [pandas](http://pandas.pydata.org/) и попробуем немного поработать с данными, которые мы собрали о вас из социальных сеток. \n",
    "\n",
    "## 2.1 Смотрим на данные"
   ]
  },
  {
   "cell_type": "code",
   "execution_count": null,
   "metadata": {},
   "outputs": [],
   "source": [
    "import pandas as pd  # подгружаем пакет для работы с таблицами"
   ]
  },
  {
   "cell_type": "markdown",
   "metadata": {},
   "source": [
    "По имени `pd` нам теперь доступна куча команд для работы с таблицами. Давайте подгрузим данные и посмотрим что лежит внутри нашей таблички. Делать это будем командой [pd.read_csv().](http://pandas.pydata.org/pandas-docs/stable/generated/pandas.read_csv.html#pandas.read_csv)\n",
    "\n",
    "Аргументов у нее очень много, критически важные:\n",
    "\n",
    " - **filepath_or_buffer** - текстовая строка с названием (адресом) файла\n",
    " - **sep** - разделитель между данными\n",
    " - **header** - номер строки, в которой в файле указаны названия столбцов, None, если нет\n",
    " - **names** - список с названиями колонок\n",
    " - **index_col** - или номер столбца, или список,  или ничего - названия строк"
   ]
  },
  {
   "cell_type": "code",
   "execution_count": null,
   "metadata": {},
   "outputs": [],
   "source": [
    "df = pd.read_csv('../data/vk_download/vk_main.csv', sep='\\t')\n",
    "df.head(7) # метод head выводит на экран первые 7 строк :) "
   ]
  },
  {
   "cell_type": "markdown",
   "metadata": {},
   "source": [
    "В табличке есть огромное количество самых разных переменных. Их названия довольно интуитивны. Будем разбираться с тем, за что отвечает какая колонка по мере необходимости. Отметим пока только то, что все переменные разных типов."
   ]
  },
  {
   "cell_type": "markdown",
   "metadata": {},
   "source": [
    "---\n",
    "\n",
    "Есть несколько методов, которые мы используем сразу, как загрузили файл:\n",
    "- [head()](https://pandas.pydata.org/pandas-docs/stable/reference/api/pandas.DataFrame.head.html): выводит первые 5 строк таблицы. Если задать в скобках число, то покажет ровно столько строк :)\n",
    "- [info()](https://pandas.pydata.org/pandas-docs/stable/reference/api/pandas.DataFrame.info.html): показывает сводную информацию о таблице; сколько записей, сколько колонок, сколько непустых записей в таблице, \n",
    "- [tail()](https://pandas.pydata.org/pandas-docs/stable/reference/api/pandas.DataFrame.tail.html): работает как head(), только наоборот, печатает с конца\n",
    "\n",
    "На всякий случай, это **методы**. Их можно применять к датафрейму и столбцу, т.е. используем их так: <br>\n",
    "**[Имя датафрейма].[Название метода с круглыми скобками]**\n",
    "- df.head()\n",
    "- df.tail()\n",
    "- df.info()\n",
    "\n",
    "----\n",
    "\n",
    "\n",
    "На основную информацию по столбцам можно посмотреть с помощью метода `.info()`. Напротив каждого названия столбца можно увидеть, сколько в нём заполненных ячеек. Например, у $328$ человек из $425$ (общее число строк) заполнен город проживания `city`."
   ]
  },
  {
   "cell_type": "code",
   "execution_count": null,
   "metadata": {},
   "outputs": [],
   "source": [
    "df.info()"
   ]
  },
  {
   "cell_type": "markdown",
   "metadata": {},
   "source": [
    "Методов вроде `head()` и `info()` у табличек есть очень много. Давайте попробуем самые простые из них: \n",
    "\n",
    "### Задание 1.1:\n",
    "\n",
    "- Выведите на экран первые 10 строк таблички \n",
    "- Выведите последние 5 строк таблички (метод `tail()`)"
   ]
  },
  {
   "cell_type": "code",
   "execution_count": null,
   "metadata": {},
   "outputs": [],
   "source": [
    "### ╰( ͡° ͜ʖ ͡° )つ▬▬ι═══════  bzzzzzzzzzz"
   ]
  },
  {
   "cell_type": "code",
   "execution_count": null,
   "metadata": {},
   "outputs": [],
   "source": [
    "### ╰( ͡° ͜ʖ ͡° )つ▬▬ι═══════  bzzzzzzzzzz"
   ]
  },
  {
   "cell_type": "markdown",
   "metadata": {},
   "source": [
    "----------\n",
    "### Поля\n",
    "Кроме методов, у датафреймом есть еще поля. Это справочная информация о датафрейме. Список полей\n",
    "<a href=\"https://pandas.pydata.org/pandas-docs/stable/reference/frame.html\"> здесь </a>.\n",
    "\n",
    "Чаще всего мы используем поля: \n",
    "- **columns**: названия колонок\n",
    "- **index**: названия строк\n",
    "- **shape**: размеры датафрейма, кол-во строк и столбцов\n",
    "\n",
    "Использование:\n",
    "\n",
    "**[Имя датафрейма].[Имя поля]**\n",
    "\n",
    "- df.columns\n",
    "- df.index\n",
    "- df.shape\n",
    "\n",
    "Обратите внимание: нет круглых скобок!"
   ]
  },
  {
   "cell_type": "markdown",
   "metadata": {},
   "source": [
    "### Задание 1.2: \n",
    "- Выясните сколько в таблице строк и столбцов (метод `shape`)\n",
    "- Выведите на экран названия всех колонок таблицы (метод `columns`)"
   ]
  },
  {
   "cell_type": "code",
   "execution_count": null,
   "metadata": {},
   "outputs": [],
   "source": [
    "### ╰( ͡° ͜ʖ ͡° )つ▬▬ι═══════  bzzzzzzzzzz"
   ]
  },
  {
   "cell_type": "code",
   "execution_count": null,
   "metadata": {},
   "outputs": [],
   "source": [
    "### ╰( ͡° ͜ʖ ͡° )つ▬▬ι═══════  bzzzzzzzzzz"
   ]
  },
  {
   "cell_type": "markdown",
   "metadata": {},
   "source": [
    "## 2.2 Базовые навыки по работе с табличками\n",
    "\n",
    "### Выбор колонки\n",
    "\n",
    "Чтобы вытащить столбец, у нему нужно через квадратные скобки обратиться по имени."
   ]
  },
  {
   "cell_type": "code",
   "execution_count": null,
   "metadata": {},
   "outputs": [],
   "source": [
    "# цепляем head(), чтобы не получить слишком много напечатанных имен\n",
    "df['first_name'].head()"
   ]
  },
  {
   "cell_type": "markdown",
   "metadata": {},
   "source": [
    "Можно вытащить сразу несколько колонок и применить к ним какой-нибудь метод:"
   ]
  },
  {
   "cell_type": "code",
   "execution_count": null,
   "metadata": {},
   "outputs": [],
   "source": [
    "# обратите внимание, что в квадратные скобки мы записали только 1 объект - лист с названиями колонок. \n",
    "df[['first_name', 'last_name', 'city']].head()"
   ]
  },
  {
   "cell_type": "markdown",
   "metadata": {},
   "source": [
    "Можно создавать новые колонки. Например, мы можем взять все имена и фамилии, записать их через пробел и положить в новую колонку."
   ]
  },
  {
   "cell_type": "code",
   "execution_count": null,
   "metadata": {},
   "outputs": [],
   "source": [
    "df['first_last_name'] = df['first_name'] + ' ' + df['last_name']\n",
    "df.head()"
   ]
  },
  {
   "cell_type": "markdown",
   "metadata": {},
   "source": [
    "### Выбор подряд идущих строк\n",
    "\n",
    "Если в квадратных скобках указать диапазон, то можно выбрать несколько строк, идущих друг за другом"
   ]
  },
  {
   "cell_type": "code",
   "execution_count": null,
   "metadata": {},
   "outputs": [],
   "source": [
    "df[:2]"
   ]
  },
  {
   "cell_type": "code",
   "execution_count": null,
   "metadata": {},
   "outputs": [],
   "source": [
    "df[1:10]"
   ]
  },
  {
   "cell_type": "markdown",
   "metadata": {},
   "source": [
    "---\n",
    "### Уникальные значения и частотые таблицы\n",
    "\n",
    "Очень частой операцией является нахождение уникальных значений в колонке. В зависимости от задачи есть два метода. \n",
    "- [unique()](https://pandas.pydata.org/pandas-docs/stable/reference/api/pandas.DataFrame.unique.html): возвращает массив уникальных значений в колонке - к нему можем применять только обычный питон\n",
    "- [drop_duplicates()](https://pandas.pydata.org/pandas-docs/stable/reference/api/pandas.DataFrame.drop_duplicates.html): удаляет дублирующиеся строчки в датафрейме/колонке и возвращает соответственно датафрейм или колонку - к ним можем дальше применять пандасовские методы"
   ]
  },
  {
   "cell_type": "markdown",
   "metadata": {},
   "source": [
    "- [value_counts()](https://pandas.pydata.org/pandas-docs/stable/reference/api/pandas.DataFrame.value_counts.html): считает частотную таблицу, т.е. сколько раз мы встретили значение в колонке"
   ]
  },
  {
   "cell_type": "markdown",
   "metadata": {},
   "source": [
    "### Задание 2:\n",
    "\n",
    "- Вытащите из таблички колону с городом (city), примените к ней метод, который оставит в колонке только уникальные названия городов, `.unique()`\n",
    "- Сколько всего городов есть в данных? "
   ]
  },
  {
   "cell_type": "code",
   "execution_count": null,
   "metadata": {},
   "outputs": [],
   "source": [
    "### ╰( ͡° ͜ʖ ͡° )つ▬▬ι═══════  bzzzzzzzzzz"
   ]
  },
  {
   "cell_type": "code",
   "execution_count": null,
   "metadata": {},
   "outputs": [],
   "source": [
    "### ╰( ͡° ͜ʖ ͡° )つ▬▬ι═══════  bzzzzzzzzzz"
   ]
  },
  {
   "cell_type": "markdown",
   "metadata": {},
   "source": [
    "- Попробуйте вытащить ту же самую колонку и посчитать по ней, как часто, какой город встречается в данных, `.value_counts()`\n",
    "- Выведите на экран $5$ самых популярных городов для жизни студентов первого курса"
   ]
  },
  {
   "cell_type": "code",
   "execution_count": null,
   "metadata": {},
   "outputs": [],
   "source": [
    "### ╰( ͡° ͜ʖ ͡° )つ▬▬ι═══════  bzzzzzzzzzz"
   ]
  },
  {
   "cell_type": "markdown",
   "metadata": {},
   "source": [
    "----------"
   ]
  },
  {
   "cell_type": "markdown",
   "metadata": {},
   "source": [
    "Вот мы и добрались до самого главного. В pandas можно пытаться искать ответы на разные интересующие вас вопросы. Например, когда я смотрю на нашу табличку, у меня возникает вопрос:  \n",
    "\n",
    "> Сколько девушек с именем отличающимся от \"Аня\" указали в профиле ссылку на свой инстаграм? "
   ]
  },
  {
   "cell_type": "markdown",
   "metadata": {},
   "source": [
    "Нас интересуют только девушки. Информация о поле лежит в колонке `male_dummy`. Если перед нами девушка, в этой колонке будет написан $0$. Сравним все значения в этой колонке с нулём. Если внутри правда $0$, на экране будет True."
   ]
  },
  {
   "cell_type": "code",
   "execution_count": null,
   "metadata": {},
   "outputs": [],
   "source": [
    "df['male_dummy'] == 0"
   ]
  },
  {
   "cell_type": "markdown",
   "metadata": {},
   "source": [
    "Сделаем срез. Оставим в табличке только те строчки, где стоит True: "
   ]
  },
  {
   "cell_type": "code",
   "execution_count": null,
   "metadata": {},
   "outputs": [],
   "source": [
    "df[df['male_dummy'] == 0].head()"
   ]
  },
  {
   "cell_type": "markdown",
   "metadata": {},
   "source": [
    "Обратите внимание на номера строк. Видно, что $2$, $4$ и $5$ строчки были про мальчиков. Давайте теперь из этой, более маленькой таблички оставим только тех девушек, у которых есть инстаграм. Для этого нужен второй срез по колонке `instagram_dummy`. Если в ней стоит $1$, значит инстаграм есть.  Знак `&` между срезами говорит, что должны выполниться оба условия. Он читается как союз `и`.\n",
    "\n",
    "Если мы хотим, чтобы выполнялось хотя бы одно из условий, можно использовать союз `или`, который обозначается значком `|`. "
   ]
  },
  {
   "cell_type": "code",
   "execution_count": null,
   "metadata": {},
   "outputs": [],
   "source": [
    "df[(df['male_dummy'] == 0) & (df['instagram_dummy'] == 1)].head()"
   ]
  },
  {
   "cell_type": "markdown",
   "metadata": {},
   "source": [
    "Выбросили ещё больше строк. Осталось добавить срез на имена. Нам нужно, чтобы девушка была с именем отличающимся от \"Аня\". Значки `!=` отвечают за $\\neq$."
   ]
  },
  {
   "cell_type": "code",
   "execution_count": null,
   "metadata": {},
   "outputs": [],
   "source": [
    "df[(df['first_name'] != \"Аня\") & (df['first_name'] != \"Анна\")].head()"
   ]
  },
  {
   "cell_type": "markdown",
   "metadata": {},
   "source": [
    "Так мы вытащим табличку без Ань. Объединяем всё вместе."
   ]
  },
  {
   "cell_type": "code",
   "execution_count": null,
   "metadata": {},
   "outputs": [],
   "source": [
    "# Можно аккуратно переносить строки кода в питоне для улучшения читаемости.\n",
    "df[\n",
    "    (df['instagram_dummy'] == 1)\n",
    "    & (df['male_dummy'] == 0)\n",
    "    & (df['first_name'] != \"Аня\") & (df['first_name'] != \"Анна\")\n",
    "].head()"
   ]
  },
  {
   "cell_type": "markdown",
   "metadata": {},
   "source": [
    "Сами условия важно не забывать оборачивать в круглые скобки `()`, чтобы питон не запутался, что с чем сравнивается. Также они определяют порядок действий, как в математике.\n",
    "\n",
    "То есть мы командой \n",
    "\n",
    "`(df['instagram_dummy'] == 1) & (df['male_dummy'] == 0) & (df['first_name'] != \"Аня\") & (df['first_name'] != \"Анна\")` \n",
    "\n",
    "говорим табличке: \n",
    "\n",
    "`(у них есть инстаграм) И (они девушки) И (их зовут НЕ аня) И (их зовут НЕ анна))` \n",
    "\n",
    "И на выход получаем маленькую подтаблицу, где __все__ эти условия выполнены.\n",
    "\n",
    "__Важно__: если вы хотите вывести все строки в таблице, где столбец попадает в какой-то _диапазон_ значений, придётся написать $2$ условия на этот столбец (двойное неравенство не прокатит, увы). Например, выведем всех людей, у которых количество друзей, посещающих этот курс, от $100$ до $153$:"
   ]
  },
  {
   "cell_type": "code",
   "execution_count": null,
   "metadata": {},
   "outputs": [],
   "source": [
    "df[(df['friends_from_course_cnt'] > 100) & (df['friends_from_course_cnt'] < 153)].head()"
   ]
  },
  {
   "cell_type": "markdown",
   "metadata": {},
   "source": [
    "## 2.3 Работа с пропусками \n",
    "\n",
    "\n",
    "Пропуски в данных возникают по разным причинам. Кто-то забыл измерить, записать или в принципе таких данных в природе не существовало. Когда мы будем учить алгоритмы машинного обучения, нам придётся все эти пропуски заполнять. \n",
    "\n",
    "Количество пропусков в данных можно узнать с помощью метода [.isnull()](https://pandas.pydata.org/pandas-docs/stable/reference/api/pandas.DataFrame.isnull.html)"
   ]
  },
  {
   "cell_type": "code",
   "execution_count": null,
   "metadata": {},
   "outputs": [],
   "source": [
    "df.isnull().head() # возвращает True, если в ячейке пропуск, иначе --- False"
   ]
  },
  {
   "cell_type": "code",
   "execution_count": null,
   "metadata": {},
   "outputs": [],
   "source": [
    "df.isnull().sum()  # суммарное количество пропусков в каждом столбце"
   ]
  },
  {
   "cell_type": "code",
   "execution_count": null,
   "metadata": {},
   "outputs": [],
   "source": [
    "# отсортировали число пропусков по убыванию и вывели топ-10 \n",
    "df.isnull().sum().sort_values(ascending=False).head(10)"
   ]
  },
  {
   "cell_type": "markdown",
   "metadata": {},
   "source": [
    "Метод `.fillna(что-то)` позволяет заполнить пропуски чем-нибудь нейтральным. Например, посмотрим на колонку `city`. В ней сейчас есть пропуски. "
   ]
  },
  {
   "cell_type": "code",
   "execution_count": null,
   "metadata": {},
   "outputs": [],
   "source": [
    "df['city'].head()"
   ]
  },
  {
   "cell_type": "markdown",
   "metadata": {},
   "source": [
    "Давайте заполним их значением \"не указано\". "
   ]
  },
  {
   "cell_type": "code",
   "execution_count": null,
   "metadata": {},
   "outputs": [],
   "source": [
    "df['city'] = df['city'].fillna('Не указано')\n",
    "df['city'].head()"
   ]
  },
  {
   "cell_type": "markdown",
   "metadata": {},
   "source": [
    "## 2.4 Поиск ответов на глупые вопросы \n",
    "\n",
    "Комбинируя все те знания, которые мы с вами добыли выше, можно искать ответы на разные вопросы.\n",
    "\n",
    "### Задание 3\n",
    "\n",
    "- Сколько студентов закрыли свой профиль (колонка `is_closed`)? "
   ]
  },
  {
   "cell_type": "code",
   "execution_count": null,
   "metadata": {},
   "outputs": [],
   "source": [
    "### ╰( ͡° ͜ʖ ͡° )つ▬▬ι═══════  bzzzzzzzzzz"
   ]
  },
  {
   "cell_type": "markdown",
   "metadata": {},
   "source": [
    "- Сколько всего в таблице студентов? "
   ]
  },
  {
   "cell_type": "code",
   "execution_count": null,
   "metadata": {},
   "outputs": [],
   "source": [
    "### ╰( ͡° ͜ʖ ͡° )つ▬▬ι═══════  bzzzzzzzzzz"
   ]
  },
  {
   "cell_type": "markdown",
   "metadata": {},
   "source": [
    "- Какая доля студентов закрыла профиль? "
   ]
  },
  {
   "cell_type": "code",
   "execution_count": null,
   "metadata": {},
   "outputs": [],
   "source": [
    "### ╰( ͡° ͜ʖ ͡° )つ▬▬ι═══════  bzzzzzzzzzz"
   ]
  },
  {
   "cell_type": "markdown",
   "metadata": {},
   "source": [
    "- Сколько уникальных мужских имён встречается на первом курсе? "
   ]
  },
  {
   "cell_type": "code",
   "execution_count": null,
   "metadata": {},
   "outputs": [],
   "source": [
    "### ╰( ͡° ͜ʖ ͡° )つ▬▬ι═══════  bzzzzzzzzzz"
   ]
  },
  {
   "cell_type": "markdown",
   "metadata": {},
   "source": [
    "- Выведите три самых популярных женских имени среди студентов"
   ]
  },
  {
   "cell_type": "code",
   "execution_count": null,
   "metadata": {},
   "outputs": [],
   "source": [
    "### ╰( ͡° ͜ʖ ͡° )つ▬▬ι═══════  bzzzzzzzzzz"
   ]
  },
  {
   "cell_type": "markdown",
   "metadata": {},
   "source": [
    "- Сколько в среднем лайков ставят под мемы девушки (колонка `likes_memes`) "
   ]
  },
  {
   "cell_type": "code",
   "execution_count": null,
   "metadata": {},
   "outputs": [],
   "source": [
    "### ╰( ͡° ͜ʖ ͡° )つ▬▬ι═══════  bzzzzzzzzzz"
   ]
  },
  {
   "cell_type": "markdown",
   "metadata": {},
   "source": [
    "- Сколько суммарно лайков оставили студенты в группе с мемами? "
   ]
  },
  {
   "cell_type": "code",
   "execution_count": null,
   "metadata": {},
   "outputs": [],
   "source": [
    "### ╰( ͡° ͜ʖ ͡° )つ▬▬ι═══════  bzzzzzzzzzz"
   ]
  },
  {
   "cell_type": "markdown",
   "metadata": {},
   "source": [
    "- Сколько в среднем лайков приходится на одного человека, подписанного на группу (колонка `in_hse_memes_group`)"
   ]
  },
  {
   "cell_type": "code",
   "execution_count": null,
   "metadata": {},
   "outputs": [],
   "source": [
    "### ╰( ͡° ͜ʖ ͡° )つ▬▬ι═══════  bzzzzzzzzzz"
   ]
  },
  {
   "cell_type": "markdown",
   "metadata": {},
   "source": [
    "- Сколько лайков поставили люди, которые не подписаны на группу? "
   ]
  },
  {
   "cell_type": "code",
   "execution_count": null,
   "metadata": {},
   "outputs": [],
   "source": [
    "### ╰( ͡° ͜ʖ ͡° )つ▬▬ι═══════  bzzzzzzzzzz"
   ]
  },
  {
   "cell_type": "markdown",
   "metadata": {},
   "source": [
    "- Выведите на экран колонки, в которых нет ни одного пропуска."
   ]
  },
  {
   "cell_type": "code",
   "execution_count": null,
   "metadata": {},
   "outputs": [],
   "source": [
    "### ╰( ͡° ͜ʖ ͡° )つ▬▬ι═══════  bzzzzzzzzzz"
   ]
  },
  {
   "cell_type": "markdown",
   "metadata": {},
   "source": [
    "- Выведите на экран 3 случайных записей для пользователей, которые приехали в Москву (`home_town` - откуда приехали, `city` - где живут сейчас)"
   ]
  },
  {
   "cell_type": "code",
   "execution_count": null,
   "metadata": {},
   "outputs": [],
   "source": [
    "### ╰( ͡° ͜ʖ ͡° )つ▬▬ι═══════  bzzzzzzzzzz"
   ]
  },
  {
   "cell_type": "markdown",
   "metadata": {},
   "source": [
    "- Среди двух полов найдите лидера по числу выложенных фоток (в колонке `photo_month_mean` среднемесячное кол-во фоток)"
   ]
  },
  {
   "cell_type": "code",
   "execution_count": null,
   "metadata": {},
   "outputs": [],
   "source": [
    "### ╰( ͡° ͜ʖ ͡° )つ▬▬ι═══════  bzzzzzzzzzz"
   ]
  },
  {
   "cell_type": "markdown",
   "metadata": {},
   "source": [
    "- Сейчас число лайков измеряется по шкале от $0$ до $1081$. В машинном обучении довольно часто возникает желание поменять у данных шкалу, в которой они измерены. Такая процедура называется скалированием. Давайте переведём лайки с отрезка $[0, 1081]$ на отрезок $[0, 1]$. Делать это будем по формуле: \n",
    "\n",
    "        x_new = (x-min)/(max-min)\n",
    "    \n",
    "        min = минимальный элемент в столбце\n",
    "        max = максимальный элемент в столбце\n",
    "        \n",
    "Получившийся результат запишем в колонку `like_memes_scal`."
   ]
  },
  {
   "cell_type": "code",
   "execution_count": null,
   "metadata": {},
   "outputs": [],
   "source": [
    "### ╰( ͡° ͜ʖ ͡° )つ▬▬ι═══════  bzzzzzzzzzz"
   ]
  },
  {
   "cell_type": "markdown",
   "metadata": {},
   "source": [
    "На последок вот вам __пара панд.__ Ведь именно в честь них (на самом деле в честь panel data) назван пакет pandas.\n",
    "\n",
    "![](http://www.hughlansdown.com/photos/wildlife/mammals/pair-of-red-pandas.jpg)"
   ]
  },
  {
   "cell_type": "markdown",
   "metadata": {},
   "source": [
    " "
   ]
  }
 ],
 "metadata": {
  "kernelspec": {
   "display_name": "Python 3",
   "language": "python",
   "name": "python3"
  },
  "language_info": {
   "codemirror_mode": {
    "name": "ipython",
    "version": 3
   },
   "file_extension": ".py",
   "mimetype": "text/x-python",
   "name": "python",
   "nbconvert_exporter": "python",
   "pygments_lexer": "ipython3",
   "version": "3.7.1"
  },
  "toc": {
   "base_numbering": 1,
   "nav_menu": {},
   "number_sections": false,
   "sideBar": true,
   "skip_h1_title": false,
   "title_cell": "Table of Contents",
   "title_sidebar": "Contents",
   "toc_cell": false,
   "toc_position": {
    "height": "calc(100% - 180px)",
    "left": "10px",
    "top": "150px",
    "width": "264.796875px"
   },
   "toc_section_display": true,
   "toc_window_display": true
  }
 },
 "nbformat": 4,
 "nbformat_minor": 2
}
