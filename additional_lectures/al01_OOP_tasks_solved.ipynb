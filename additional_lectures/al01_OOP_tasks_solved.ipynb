{
 "cells": [
  {
   "cell_type": "markdown",
   "id": "b347e5c3",
   "metadata": {},
   "source": [
    "# Введение в DS на УБ и МиРА\n",
    "\n",
    "## Задание на ООП 1"
   ]
  },
  {
   "cell_type": "markdown",
   "id": "1698c175",
   "metadata": {},
   "source": [
    "В этом задании мы напишем класс, который осуществляет проверку двусторонних гипотез для средних при помощи Z-теста или t-теста."
   ]
  },
  {
   "cell_type": "code",
   "execution_count": 10,
   "id": "0622060f",
   "metadata": {},
   "outputs": [],
   "source": [
    "import numpy as np\n",
    "import scipy.stats"
   ]
  },
  {
   "cell_type": "markdown",
   "id": "cd3c934c",
   "metadata": {},
   "source": [
    "---"
   ]
  },
  {
   "cell_type": "markdown",
   "id": "52d621f8",
   "metadata": {},
   "source": [
    "**Пункт 1.** Создайте класс `HypothesisTester` только методом `__init__()`. Метод `__init__()` должен печатать сообщение `Tester ready!`. Просто чтобы убедиться, что всё работает, создайте экземпляр этого класса и убедитесь, что сообщение печатается."
   ]
  },
  {
   "cell_type": "code",
   "execution_count": 4,
   "id": "dba60cc9",
   "metadata": {},
   "outputs": [],
   "source": [
    "class HypothesisTester:\n",
    "    \n",
    "    def __init__(self):\n",
    "        print('Tester ready!')"
   ]
  },
  {
   "cell_type": "code",
   "execution_count": 5,
   "id": "9ed773e6",
   "metadata": {},
   "outputs": [
    {
     "name": "stdout",
     "output_type": "stream",
     "text": [
      "Tester ready!\n"
     ]
    }
   ],
   "source": [
    "ht = HypothesisTester()"
   ]
  },
  {
   "cell_type": "markdown",
   "id": "4e67cb0e",
   "metadata": {},
   "source": [
    "Сначала напишем функционал для одной выборки. Будем реализовывать следующую логику.\n",
    "\n",
    "1. При создании экземпляра пользователь выбирает, какой тест он хочет использовать – Z или t – и передаёт количество наблюдений в выборке. Если количество наблюдений меньше 30 и пользователь выбрал Z-тест, должна появиться ошибка типа `ValueError`. Если пользователь выбрал не Z- или t-тесты, также должна появиться ошибка типа `ValueError`.\n",
    "2. Пользователь вызывает метод `test(self, ...)`, в которой подаёт выборку, тестируемое значение и уровень значимости. Метод рассчитывает соответствующую статистику, критическое значение для данного уровня значимости и p-value. Возвращаются (не печатаются, а именно возвращаются): статистика, p-value и результат проверки гипотезы. "
   ]
  },
  {
   "cell_type": "markdown",
   "id": "caf06911",
   "metadata": {},
   "source": [
    "**Пункт 2.** Реализуйте логику шага 1 для метода `__init__()`. \n",
    "\n",
    "1. Удалите из `__init__()` печать сообщения.\n",
    "2. Добавьте два аргумента для этой функции: `test_type` типа `str` (тип теста) и `N` типа `int` (кол-во наблюдений). Укажите типизацию в объявлении функции.\n",
    "3. Укажите, что функция должна возвращать `None`.\n",
    "4. Сделайте проверку, что если `test_type` не принимает значения `\"Z\"` или `\"t\"`, то должна вызываться `ValueError` с сообщением `\"Unsupported test!\"`. Чтобы вызвать сообщение об ошибке, посмотрите документацию для ключевого слово `raise`.\n",
    "5. Сделайте проверку, что если проводится Z-тест и число наблюдений меньше 30, то должна вызываться `ValueError` с сообщением `\"Cannot use Z-test with N < 30\"`.\n",
    "6. После прохождения всех проверок сохраните тип теста в атрибут `self.test_type`. "
   ]
  },
  {
   "cell_type": "code",
   "execution_count": 7,
   "id": "0f2b1b62",
   "metadata": {},
   "outputs": [],
   "source": [
    "class HypothesisTester:\n",
    "    \n",
    "    def __init__(self, test_type: str, N: int) -> None:\n",
    "        \n",
    "        # Проверка, что тип теста верный\n",
    "        if test_type not in [\"Z\", \"t\"]:\n",
    "            raise ValueError(\"Unsupported test!\")\n",
    "            \n",
    "        # Проверка количества наблюдений\n",
    "        if (test_type == \"Z\") & (N < 30):\n",
    "            raise ValueError(\"Cannot use Z-test with N < 30\")\n",
    "        \n",
    "        self.test_type = test_type"
   ]
  },
  {
   "cell_type": "markdown",
   "id": "2077f2d2",
   "metadata": {},
   "source": [
    "**Пункт 3.** Протестируйте, что\n",
    "1. Неправильный тип теста выдаёт ошибку.\n",
    "2. Z-тест с малым числом наблюдений выдаёт ошибку."
   ]
  },
  {
   "cell_type": "code",
   "execution_count": 13,
   "id": "9eddf6c1",
   "metadata": {},
   "outputs": [
    {
     "ename": "ValueError",
     "evalue": "Unsupported test!",
     "output_type": "error",
     "traceback": [
      "\u001b[0;31m---------------------------------------------------------------------------\u001b[0m",
      "\u001b[0;31mValueError\u001b[0m                                Traceback (most recent call last)",
      "Input \u001b[0;32mIn [13]\u001b[0m, in \u001b[0;36m<cell line: 1>\u001b[0;34m()\u001b[0m\n\u001b[0;32m----> 1\u001b[0m hp \u001b[38;5;241m=\u001b[39m \u001b[43mHypothesisTester\u001b[49m\u001b[43m(\u001b[49m\u001b[38;5;124;43m'\u001b[39;49m\u001b[38;5;124;43mM\u001b[39;49m\u001b[38;5;124;43m'\u001b[39;49m\u001b[43m,\u001b[49m\u001b[43m \u001b[49m\u001b[38;5;241;43m100\u001b[39;49m\u001b[43m)\u001b[49m\n",
      "Input \u001b[0;32mIn [12]\u001b[0m, in \u001b[0;36mHypothesisTester.__init__\u001b[0;34m(self, test_type, N)\u001b[0m\n\u001b[1;32m      3\u001b[0m \u001b[38;5;28;01mdef\u001b[39;00m \u001b[38;5;21m__init__\u001b[39m(\u001b[38;5;28mself\u001b[39m, test_type: \u001b[38;5;28mstr\u001b[39m, N: \u001b[38;5;28mint\u001b[39m) \u001b[38;5;241m-\u001b[39m\u001b[38;5;241m>\u001b[39m \u001b[38;5;28;01mNone\u001b[39;00m:\n\u001b[1;32m      4\u001b[0m     \n\u001b[1;32m      5\u001b[0m     \u001b[38;5;66;03m# Проверка, что тип теста верный\u001b[39;00m\n\u001b[1;32m      6\u001b[0m     \u001b[38;5;28;01mif\u001b[39;00m test_type \u001b[38;5;129;01mnot\u001b[39;00m \u001b[38;5;129;01min\u001b[39;00m [\u001b[38;5;124m\"\u001b[39m\u001b[38;5;124mZ\u001b[39m\u001b[38;5;124m\"\u001b[39m, \u001b[38;5;124m\"\u001b[39m\u001b[38;5;124mt\u001b[39m\u001b[38;5;124m\"\u001b[39m]:\n\u001b[0;32m----> 7\u001b[0m         \u001b[38;5;28;01mraise\u001b[39;00m \u001b[38;5;167;01mValueError\u001b[39;00m(\u001b[38;5;124m\"\u001b[39m\u001b[38;5;124mUnsupported test!\u001b[39m\u001b[38;5;124m\"\u001b[39m)\n\u001b[1;32m      9\u001b[0m     \u001b[38;5;66;03m# Проверка количества наблюдений\u001b[39;00m\n\u001b[1;32m     10\u001b[0m     \u001b[38;5;28;01mif\u001b[39;00m (test_type \u001b[38;5;241m==\u001b[39m \u001b[38;5;124m\"\u001b[39m\u001b[38;5;124mZ\u001b[39m\u001b[38;5;124m\"\u001b[39m) \u001b[38;5;241m&\u001b[39m (N \u001b[38;5;241m<\u001b[39m \u001b[38;5;241m30\u001b[39m):\n",
      "\u001b[0;31mValueError\u001b[0m: Unsupported test!"
     ]
    }
   ],
   "source": [
    "hp = HypothesisTester('M', 100)"
   ]
  },
  {
   "cell_type": "code",
   "execution_count": 14,
   "id": "03e503a3",
   "metadata": {},
   "outputs": [
    {
     "ename": "ValueError",
     "evalue": "Cannot use Z-test with N < 30",
     "output_type": "error",
     "traceback": [
      "\u001b[0;31m---------------------------------------------------------------------------\u001b[0m",
      "\u001b[0;31mValueError\u001b[0m                                Traceback (most recent call last)",
      "Input \u001b[0;32mIn [14]\u001b[0m, in \u001b[0;36m<cell line: 1>\u001b[0;34m()\u001b[0m\n\u001b[0;32m----> 1\u001b[0m hp \u001b[38;5;241m=\u001b[39m \u001b[43mHypothesisTester\u001b[49m\u001b[43m(\u001b[49m\u001b[38;5;124;43m\"\u001b[39;49m\u001b[38;5;124;43mZ\u001b[39;49m\u001b[38;5;124;43m\"\u001b[39;49m\u001b[43m,\u001b[49m\u001b[43m \u001b[49m\u001b[38;5;241;43m20\u001b[39;49m\u001b[43m)\u001b[49m\n",
      "Input \u001b[0;32mIn [12]\u001b[0m, in \u001b[0;36mHypothesisTester.__init__\u001b[0;34m(self, test_type, N)\u001b[0m\n\u001b[1;32m      9\u001b[0m \u001b[38;5;66;03m# Проверка количества наблюдений\u001b[39;00m\n\u001b[1;32m     10\u001b[0m \u001b[38;5;28;01mif\u001b[39;00m (test_type \u001b[38;5;241m==\u001b[39m \u001b[38;5;124m\"\u001b[39m\u001b[38;5;124mZ\u001b[39m\u001b[38;5;124m\"\u001b[39m) \u001b[38;5;241m&\u001b[39m (N \u001b[38;5;241m<\u001b[39m \u001b[38;5;241m30\u001b[39m):\n\u001b[0;32m---> 11\u001b[0m     \u001b[38;5;28;01mraise\u001b[39;00m \u001b[38;5;167;01mValueError\u001b[39;00m(\u001b[38;5;124m\"\u001b[39m\u001b[38;5;124mCannot use Z-test with N < 30\u001b[39m\u001b[38;5;124m\"\u001b[39m)\n\u001b[1;32m     13\u001b[0m \u001b[38;5;28mself\u001b[39m\u001b[38;5;241m.\u001b[39mtest_type \u001b[38;5;241m=\u001b[39m test_type\n",
      "\u001b[0;31mValueError\u001b[0m: Cannot use Z-test with N < 30"
     ]
    }
   ],
   "source": [
    "hp = HypothesisTester(\"Z\", 20)"
   ]
  },
  {
   "cell_type": "code",
   "execution_count": 16,
   "id": "d1f63f0f",
   "metadata": {},
   "outputs": [],
   "source": [
    "hp = HypothesisTester(\"Z\", 100) # всё ок\n",
    "hp = HypothesisTester(\"t\", 10) # всё ок"
   ]
  },
  {
   "cell_type": "markdown",
   "id": "efe8e4c5",
   "metadata": {},
   "source": [
    "**Пункт 4.** Реализуйте логику шага 2 для метода `__init__()`.\n",
    "\n",
    "1. Создайте новый метод `test()`, который будет принимать выборку `x` (будем считать, что `x` – массив numpy), тестируемое значение `mu` (float), уровень значимости `alpha` (float) и возвращать `tuple` с тем, что требуют. Добавьте типизацию аргументов и возвращаемого значения.\n",
    "2. Оцените стандартное отклонение и среднее выборки. Рассчитайте тестовую статистику.\n",
    "3. Для заданного `self.test_type` рассчитайте критическое значение (можно использовать методы `scipy.stats.norm.ppf()` и `scipy.stats.t.ppf()`, которые выдают квантиль для заданной площади **левого** хвоста). Помните, что мы проверяем двустороннюю гипотезу (как это повлияет на площадь хвостов?). Вспомните из лекции число степеней свободы у `t`-распределения.\n",
    "4. Для заданного `self.test_type` рассчитайте p-value. Помните, что для нашего случая p-value – это площадь под функцией плотности слева от статистики, если статистика меньше 0, и справа от статистики, если статистика больше 0 – проведите корректировку на это.\n",
    "5. Для безопасности сделаем следующую проверку. Пусть \"гипотеза отвергается\" кодируется строкой `\"R\"`, а \"гипотеза не отвергается\" – строкой `\"NR\"`. Сохраните результат проверки гипотезы при помощи сравнения значения статистики с критическим значением в переменную `res_crit`. Сохраните результат проверки гипотезы при помощи сравнения `p-value` с уровнем значимости в переменную `res_pval`. Сделайте проверку, что результаты проверок совпадают, при помощи команды `assert res_crit == res_pval`.\n",
    "\n",
    "\n",
    "---\n",
    "Отступление: `assert`.\n",
    "\n",
    "`assert` оценивает некоторое утверждение и в случае его ложности выдаёт ошибку и прекращает выполнение программы. Например,"
   ]
  },
  {
   "cell_type": "code",
   "execution_count": 92,
   "id": "d6336709",
   "metadata": {},
   "outputs": [
    {
     "ename": "AssertionError",
     "evalue": "",
     "output_type": "error",
     "traceback": [
      "\u001b[0;31m---------------------------------------------------------------------------\u001b[0m",
      "\u001b[0;31mAssertionError\u001b[0m                            Traceback (most recent call last)",
      "Input \u001b[0;32mIn [92]\u001b[0m, in \u001b[0;36m<cell line: 7>\u001b[0;34m()\u001b[0m\n\u001b[1;32m      3\u001b[0m a \u001b[38;5;241m=\u001b[39m \u001b[38;5;241m-\u001b[39m\u001b[38;5;241m100\u001b[39m \u001b[38;5;66;03m# Предположим, что результат другого кода – в переменную a записалось значение -100\u001b[39;00m\n\u001b[1;32m      5\u001b[0m \u001b[38;5;66;03m# Пусть мы заранее знаем, что a должно быть больше 0 (например, a – площадь)\u001b[39;00m\n\u001b[1;32m      6\u001b[0m \u001b[38;5;66;03m# Тогда при написании кода мы можем установить проверку\u001b[39;00m\n\u001b[0;32m----> 7\u001b[0m \u001b[38;5;28;01massert\u001b[39;00m a \u001b[38;5;241m>\u001b[39m \u001b[38;5;241m0\u001b[39m\n\u001b[1;32m      9\u001b[0m a \u001b[38;5;241m=\u001b[39m \u001b[38;5;241m44\u001b[39m\n",
      "\u001b[0;31mAssertionError\u001b[0m: "
     ]
    }
   ],
   "source": [
    "# ... другой код ...\n",
    "\n",
    "a = -100 # Предположим, что результат другого кода – в переменную a записалось значение -100\n",
    "\n",
    "# Пусть мы заранее знаем, что a должно быть больше 0 (например, a – площадь)\n",
    "# Тогда при написании кода мы можем установить проверку\n",
    "assert a > 0\n",
    "\n",
    "a = 44 # Появится ошибка, следующий код не выполнится"
   ]
  },
  {
   "cell_type": "markdown",
   "id": "95420aac",
   "metadata": {},
   "source": [
    "`assert` используется программистом для **самопроверок**, чтобы было удобнее ловить ошибки.\n",
    "\n",
    "---"
   ]
  },
  {
   "cell_type": "markdown",
   "id": "b7a0ca4b",
   "metadata": {},
   "source": [
    "6. Допишите функцию так, чтобы она возвращала то, что просят в задании."
   ]
  },
  {
   "cell_type": "code",
   "execution_count": 96,
   "id": "de4bcbcf",
   "metadata": {},
   "outputs": [],
   "source": [
    "class HypothesisTester:\n",
    "    \n",
    "    def __init__(self, test_type: str, N: int) -> None:\n",
    "        \n",
    "        # Проверка, что тип теста верный\n",
    "        if test_type not in [\"Z\", \"t\"]:\n",
    "            raise ValueError(\"Unsupported test!\")\n",
    "            \n",
    "        # Проверка количества наблюдений\n",
    "        if (test_type == \"Z\") & (N < 30):\n",
    "            raise ValueError(\"Cannot use Z-test with N < 30\")\n",
    "        \n",
    "        self.test_type = test_type\n",
    "        \n",
    "    def test(self, x : np.array, mu: float, alpha : float) -> tuple:\n",
    "        \n",
    "        # Оцениваем стандартное отклонение выборки\n",
    "        est_sigma = np.std(x)\n",
    "        \n",
    "        # Оцениваем среднее выборки\n",
    "        est_mean = np.mean(x)\n",
    "        \n",
    "        # Рассчитываем статистику\n",
    "        stat = (est_mean - mu) / (est_sigma / np.sqrt(len(x)))\n",
    "        \n",
    "        # Рассчитываем критическое значение\n",
    "        if self.test_type == \"Z\":\n",
    "            crit_number = scipy.stats.norm.ppf(alpha / 2)\n",
    "        elif self.test_type == \"t\":\n",
    "            crit_number = scipy.stats.t.ppf(alpha / 2, df = len(x) - 1)\n",
    "        \n",
    "        # Рассчитываем p-value\n",
    "        if stat <= 0:\n",
    "            if self.test_type == \"Z\":\n",
    "                pval = scipy.stats.norm.cdf(stat) * 2\n",
    "            elif self.test_type == \"t\":\n",
    "                pval = scipy.stats.t.cdf(stat, df = len(x) - 1) * 2\n",
    "        else:\n",
    "            if self.test_type == \"Z\":\n",
    "                pval = (1 - scipy.stats.norm.cdf(stat)) * 2\n",
    "            elif self.test_type == \"t\":\n",
    "                pval = (1 - scipy.stats.t.cdf(stat, df = len(x) - 1)) * 2\n",
    "            \n",
    "        # Делаем проверку по сравнению с критическим значением\n",
    "        if (stat < crit_number) | (stat > -crit_number):\n",
    "            res_crit = 'R'\n",
    "        else:\n",
    "            res_crit = 'NR'\n",
    "            \n",
    "        # Делаем проверку с p-value\n",
    "        if pval < alpha:\n",
    "            res_pval = 'R'\n",
    "        else:\n",
    "            res_pval = 'NR'\n",
    "            \n",
    "        # Проверяем, что результаты проверки совпадают\n",
    "        assert res_crit == res_pval\n",
    "        \n",
    "        # Возвращаем, что требуют\n",
    "        return stat, pval, res_crit"
   ]
  },
  {
   "cell_type": "markdown",
   "id": "e93e73fc",
   "metadata": {},
   "source": [
    "**Пункт 5.** Сгенерируйте 100 случайных наблюдений из какого-нибудь распределения с известным матожиданием. Проверьте несколько гипотез на ваш выбор."
   ]
  },
  {
   "cell_type": "code",
   "execution_count": 97,
   "id": "fb0a5156",
   "metadata": {},
   "outputs": [
    {
     "data": {
      "text/plain": [
       "(0.28899382901058407, 0.7725860999138565, 'NR')"
      ]
     },
     "execution_count": 97,
     "metadata": {},
     "output_type": "execute_result"
    }
   ],
   "source": [
    "x = np.random.normal(0, 1, 100)\n",
    "\n",
    "hp = HypothesisTester('Z', 100)\n",
    "hp.test(x, 0, 0.05)"
   ]
  },
  {
   "cell_type": "code",
   "execution_count": 98,
   "id": "bf128b8e",
   "metadata": {},
   "outputs": [
    {
     "data": {
      "text/plain": [
       "(0.28899382901058407, 0.7731903857813869, 'NR')"
      ]
     },
     "execution_count": 98,
     "metadata": {},
     "output_type": "execute_result"
    }
   ],
   "source": [
    "hp = HypothesisTester('t', 100)\n",
    "hp.test(x, 0, 0.05)"
   ]
  },
  {
   "cell_type": "code",
   "execution_count": 99,
   "id": "832bc433",
   "metadata": {},
   "outputs": [
    {
     "data": {
      "text/plain": [
       "(-949.2139164855697, 8.425268557171158e-198, 'R')"
      ]
     },
     "execution_count": 99,
     "metadata": {},
     "output_type": "execute_result"
    }
   ],
   "source": [
    "hp = HypothesisTester('t', 100)\n",
    "hp.test(x, 100, 0.05)"
   ]
  },
  {
   "cell_type": "code",
   "execution_count": 100,
   "id": "3641b3c4",
   "metadata": {},
   "outputs": [
    {
     "data": {
      "text/plain": [
       "(-113.65135540873905, 1.053330996744953e-106, 'R')"
      ]
     },
     "execution_count": 100,
     "metadata": {},
     "output_type": "execute_result"
    }
   ],
   "source": [
    "hp = HypothesisTester('t', 100)\n",
    "hp.test(x, 12, 0.05)"
   ]
  },
  {
   "cell_type": "markdown",
   "id": "169bf285",
   "metadata": {},
   "source": [
    "### Что можно сделать дальше:\n",
    "\n",
    "1. Реализуйте метод `test_2sample(...)`, который позволит протестировать гипотезы для двух выборок (для этого придётся также модифицировать метод `__init()__`. \n",
    "2. Добавьте документацию ко всем функциям и к классу в целом.\n",
    "3. В методе `test()` мы никак не проверяем, что длина `x` соответствует ранее введённому `N`. Как это можно исправить?\n",
    "4. Модифицируйте метод `test()` так, чтобы он позволял также проверять гипотезы о доле. \n",
    "5. Напишите более ещё один класс, который позволяет тестировать гипотезы при помощи хи-квардрат критерия согласия Пирсона."
   ]
  },
  {
   "cell_type": "markdown",
   "id": "74b10048",
   "metadata": {},
   "source": [
    "## Задание на ООП 2"
   ]
  },
  {
   "cell_type": "markdown",
   "id": "44ddab30",
   "metadata": {},
   "source": [
    "Это реалистичное задание, которое вы сможете выполнить, когда на семинарах мы пройдём материал по линейной регрессии. "
   ]
  },
  {
   "cell_type": "markdown",
   "id": "6d8b98dd",
   "metadata": {},
   "source": [
    "1. Создайте абстрактный класс `Transformer` с абстрактными методами `fit` и `transform`. Оба метода должны принимать объект `pandas.DataFrame`, представляющий из себя датасет с признаками, а так же список колонок, которые нужно преобразовать.\n",
    "2. Создайте классы `LabelEncoder` и `OneHotEncoder`, отнаследованные от `Transformer`, которые выполняют соответственно label encoding и one hot encoding признаков выбранных колонок в датасете (оба класса должны хранить некоторую переменную, обозначающую, какой элемент переходит в какое число, которая \"обучается\" при вызове `fit`).\n",
    "3. Создайте класс `Pipeline`, который принимает список `Transformer` в своём `__init__` и применяет их все последовательно при вызове своих методов `fit` и `predict`.\n",
    "4. Примените это всё на каком-нибудь датасете (например на том же Титанике: `pd.read_csv(\"https://raw.githubusercontent.com/iad34/seminars/master/materials/data_sem1.csv\", sep=\";\"))`\n",
    "\n",
    "Решение есть [здесь](https://github.com/V-Marco/hse_iad4_2022/blob/main/seminar_5/solved_sem05_OOP.ipynb)."
   ]
  },
  {
   "cell_type": "code",
   "execution_count": null,
   "id": "3b30b42d",
   "metadata": {},
   "outputs": [],
   "source": []
  }
 ],
 "metadata": {
  "kernelspec": {
   "display_name": "Python 3 (ipykernel)",
   "language": "python",
   "name": "python3"
  },
  "language_info": {
   "codemirror_mode": {
    "name": "ipython",
    "version": 3
   },
   "file_extension": ".py",
   "mimetype": "text/x-python",
   "name": "python",
   "nbconvert_exporter": "python",
   "pygments_lexer": "ipython3",
   "version": "3.8.13"
  }
 },
 "nbformat": 4,
 "nbformat_minor": 5
}
