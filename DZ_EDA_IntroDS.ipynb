{
 "cells": [
  {
   "cell_type": "markdown",
   "metadata": {
    "pycharm": {
     "name": "#%% md\n"
    }
   },
   "source": [
    "# DZ 1 Немного EDA для маркетинговых данных"
   ]
  },
  {
   "cell_type": "markdown",
   "metadata": {
    "pycharm": {
     "name": "#%% md\n"
    }
   },
   "source": [
    "Вам предложены данные iFood — приложения для доставки еды в Бразилии, представленного более чем в тысяче городов.\n",
    "Поддержание высокой вовлеченности клиентов является важной задачей для компании. Для того, чтобы создавать новые предложения и проводить качественные рекламные кампании, необходимо понимать особенности и потребности целевой аудитории. Для этого были собраны данные о клиентах, использующих приложение. Вам предстоит выявить особенности людей, пользующихся данным приложением и найти интересные закономерности.\n",
    "\n",
    "Почитать про компанию можно, например, на википедии:) https://en.wikipedia.org/wiki/IFood"
   ]
  },
  {
   "cell_type": "markdown",
   "metadata": {
    "pycharm": {
     "name": "#%% md\n"
    }
   },
   "source": [
    "Описание данных:\n",
    "    \n",
    "* AcceptedCmp1 - 1 if customer accepted the offer in the 1st campaign, 0 otherwise\n",
    "* AcceptedCmp2 - 1 if customer accepted the offer in the 2nd campaign, 0 otherwise\n",
    "* AcceptedCmp3 - 1 if customer accepted the offer in the 3rd campaign, 0 otherwise\n",
    "* AcceptedCmp4 - 1 if customer accepted the offer in the 4th campaign, 0 otherwise\n",
    "* AcceptedCmp5 - 1 if customer accepted the offer in the 5th campaign, 0 otherwise\n",
    "* Response (target) - 1 if customer accepted the offer in the last campaign, 0 otherwise\n",
    "* Complain - 1 if customer complained in the last 2 years\n",
    "* DtCustomer - date of customer’s enrolment with the company\n",
    "* Education - customer’s level of education\n",
    "* Marital - customer’s marital status\n",
    "* Kidhome - number of small children in customer’s household\n",
    "* Teenhome - number of teenagers in customer’s household\n",
    "* Income - customer’s yearly household income\n",
    "* MntFishProducts - amount spent on fish products in the last 2 years\n",
    "* MntMeatProducts - amount spent on meat products in the last 2 years\n",
    "* MntFruits - amount spent on fruits products in the last 2 years\n",
    "* MntSweetProducts - amount spent on sweet products in the last 2 years\n",
    "* MntWines - amount spent on wine products in the last 2 years\n",
    "* MntGoldProds - amount spent on gold products in the last 2 years\n",
    "* NumDealsPurchases - number of purchases made with discount\n",
    "* NumCatalogPurchases - number of purchases made using catalogue\n",
    "* NumStorePurchases - number of purchases made directly in stores\n",
    "* NumWebPurchases - number of purchases made through company’s web site\n",
    "* NumWebVisitsMonth - number of visits to company’s web site in the last month\n",
    "* Recency - number of days since the last purchase"
   ]
  },
  {
   "cell_type": "markdown",
   "metadata": {
    "pycharm": {
     "name": "#%% md\n"
    }
   },
   "source": [
    "## Немного важной информации:"
   ]
  },
  {
   "cell_type": "markdown",
   "metadata": {
    "pycharm": {
     "name": "#%% md\n"
    }
   },
   "source": [
    "1. Обязательно гуглите! Использование дополнительных методов не карается, но приветствуется (если вы сможете объяснить принцип их работы) Однако, если вы нашли что-то полезное и хотите скопировать себе - сделав это, добавьте в начале ячейки ссылку на источник. В противном случае это будет считаться плагиатом.\n",
    "\n",
    "2. Плагиат не допускается и строго наказывается. Единственное возможное исключение - код, заимствованный из интернета, с ссылкой на источник."
   ]
  },
  {
   "cell_type": "markdown",
   "metadata": {
    "pycharm": {
     "name": "#%% md\n"
    }
   },
   "source": [
    "## Задание 1 (1 балл): предобработка данных"
   ]
  },
  {
   "cell_type": "markdown",
   "metadata": {
    "pycharm": {
     "name": "#%% md\n"
    }
   },
   "source": [
    "Откройте предложенные данные."
   ]
  },
  {
   "cell_type": "code",
   "execution_count": 75,
   "metadata": {
    "pycharm": {
     "name": "#%%\n"
    }
   },
   "outputs": [
    {
     "name": "stdout",
     "output_type": "stream",
     "text": [
      "<class 'pandas.core.frame.DataFrame'>\n",
      "RangeIndex: 2240 entries, 0 to 2239\n",
      "Data columns (total 28 columns):\n",
      " #   Column               Non-Null Count  Dtype \n",
      "---  ------               --------------  ----- \n",
      " 0   ID                   2240 non-null   int64 \n",
      " 1   Year_Birth           2240 non-null   int64 \n",
      " 2   Education            2240 non-null   object\n",
      " 3   Marital_Status       2240 non-null   object\n",
      " 4   Income               2216 non-null   object\n",
      " 5   Kidhome              2240 non-null   int64 \n",
      " 6   Teenhome             2240 non-null   int64 \n",
      " 7   Dt_Customer          2240 non-null   object\n",
      " 8   Recency              2240 non-null   int64 \n",
      " 9   MntWines             2240 non-null   int64 \n",
      " 10  MntFruits            2240 non-null   int64 \n",
      " 11  MntMeatProducts      2240 non-null   int64 \n",
      " 12  MntFishProducts      2240 non-null   int64 \n",
      " 13  MntSweetProducts     2240 non-null   int64 \n",
      " 14  MntGoldProds         2240 non-null   int64 \n",
      " 15  NumDealsPurchases    2240 non-null   int64 \n",
      " 16  NumWebPurchases      2240 non-null   int64 \n",
      " 17  NumCatalogPurchases  2240 non-null   int64 \n",
      " 18  NumStorePurchases    2240 non-null   int64 \n",
      " 19  NumWebVisitsMonth    2240 non-null   int64 \n",
      " 20  AcceptedCmp3         2240 non-null   int64 \n",
      " 21  AcceptedCmp4         2240 non-null   int64 \n",
      " 22  AcceptedCmp5         2240 non-null   int64 \n",
      " 23  AcceptedCmp1         2240 non-null   int64 \n",
      " 24  AcceptedCmp2         2240 non-null   int64 \n",
      " 25  Response             2240 non-null   int64 \n",
      " 26  Complain             2240 non-null   int64 \n",
      " 27  Country              2240 non-null   object\n",
      "dtypes: int64(23), object(5)\n",
      "memory usage: 490.1+ KB\n"
     ]
    }
   ],
   "source": [
    "import pandas as pd\n",
    "df = pd.read_csv(\"marketing.csv\")\n",
    "df.info()"
   ]
  },
  {
   "cell_type": "markdown",
   "metadata": {
    "pycharm": {
     "name": "#%% md\n"
    }
   },
   "source": [
    "Изучите ваши данные. Какие типы данных здесь представлены? Все ли данные считались в корректном и удобном для работы формате? Если нет, то с какими данными есть проблемы?"
   ]
  },
  {
   "cell_type": "code",
   "execution_count": null,
   "metadata": {
    "pycharm": {
     "name": "#%%\n"
    }
   },
   "outputs": [],
   "source": [
    "# Типы данных:\n",
    "# bool (все AcceptedCmp, Response, Complain, etc.)\n",
    "# string (Education, Marital, etc.)\n",
    "# int (Kidhome, Teenhome, etc.)\n",
    "# float (MntFishProducts, etc)"
   ]
  },
  {
   "cell_type": "markdown",
   "metadata": {
    "pycharm": {
     "name": "#%% md\n"
    }
   },
   "source": [
    "Теперь необходимо привести некоторые данные в корректный вид. Преобразуйте признак income так, чтобы значения этого признака были обычными вещественными числами (float)"
   ]
  },
  {
   "cell_type": "code",
   "execution_count": 76,
   "metadata": {
    "pycharm": {
     "name": "#%%\n"
    }
   },
   "outputs": [
    {
     "name": "stderr",
     "output_type": "stream",
     "text": [
      "<ipython-input-76-5bddb6c1e701>:2: FutureWarning: The default value of regex will change from True to False in a future version.\n",
      "  df['Income'] = df['Income'].str.replace('.00', '')\n",
      "<ipython-input-76-5bddb6c1e701>:3: FutureWarning: The default value of regex will change from True to False in a future version. In addition, single character regular expressions will *not* be treated as literal strings when regex=True.\n",
      "  df['Income'] = df['Income'].str.replace('$','')\n"
     ]
    }
   ],
   "source": [
    "# Переведём Income из вида \"$57,091.00 \" (в marketing.csv) в вид 57091 (float)\n",
    "df['Income'] = df['Income'].str.replace('.00', '')\n",
    "df['Income'] = df['Income'].str.replace('$','')\n",
    "df['Income'] = df['Income'].str.replace(',','')\n",
    "df['Income'] = df['Income'].astype('float')\n",
    "# Из семинара 8\n"
   ]
  },
  {
   "cell_type": "markdown",
   "metadata": {
    "pycharm": {
     "name": "#%% md\n"
    }
   },
   "source": [
    "Кроме того, даты нам было бы удобнее представить в корректном формате ГГГГ-ММ-ДД. Преобразуйте данные с датами в соответствующий вид."
   ]
  },
  {
   "cell_type": "code",
   "execution_count": 77,
   "metadata": {
    "pycharm": {
     "name": "#%%\n"
    }
   },
   "outputs": [],
   "source": [
    "# В таблице даты представлены в виде ММ/ДД/ГГ\n",
    "# Все даты в таблице - позже 2000 года. Значит, необходимо перевести года в вид 20ГГ\n",
    "# ММ/ДД/ГГ > ГГГГ-ММ-ДД\n",
    "\n",
    "df['Dt_Customer'] = df['Dt_Customer'].str.replace('/', '-')\n",
    "# Сейчас данные в виде ММ-ДД-ГГ\n",
    "for customer in df['Dt_Customer']:\n",
    "        customer = '20{}-'.format(customer[-2:]) + customer[:-3]\n"
   ]
  },
  {
   "cell_type": "markdown",
   "metadata": {
    "pycharm": {
     "name": "#%% md\n"
    }
   },
   "source": [
    "## Задание 2 (1.5 балла): пропуски и выбросы"
   ]
  },
  {
   "cell_type": "markdown",
   "metadata": {
    "pycharm": {
     "name": "#%% md\n"
    }
   },
   "source": [
    "Исследуйте данные на предмет пропусков и выбросов. Есть ли в данных пропуски? Сколько и в каких признаках? Как вы будете их обрабатывать? Обработайте пропуски, пояснив выбранную вами стратегию обработки.\n",
    "\n",
    "_важно: просто удалить - это не стратегия обработки, придумайте что-то другое_"
   ]
  },
  {
   "cell_type": "code",
   "execution_count": 78,
   "metadata": {
    "pycharm": {
     "name": "#%%\n"
    }
   },
   "outputs": [
    {
     "data": {
      "text/plain": [
       "ID                     0\n",
       "Year_Birth             0\n",
       "Education              0\n",
       "Marital_Status         0\n",
       "Income                 0\n",
       "Kidhome                0\n",
       "Teenhome               0\n",
       "Dt_Customer            0\n",
       "Recency                0\n",
       "MntWines               0\n",
       "MntFruits              0\n",
       "MntMeatProducts        0\n",
       "MntFishProducts        0\n",
       "MntSweetProducts       0\n",
       "MntGoldProds           0\n",
       "NumDealsPurchases      0\n",
       "NumWebPurchases        0\n",
       "NumCatalogPurchases    0\n",
       "NumStorePurchases      0\n",
       "NumWebVisitsMonth      0\n",
       "AcceptedCmp3           0\n",
       "AcceptedCmp4           0\n",
       "AcceptedCmp5           0\n",
       "AcceptedCmp1           0\n",
       "AcceptedCmp2           0\n",
       "Response               0\n",
       "Complain               0\n",
       "Country                0\n",
       "dtype: int64"
      ]
     },
     "execution_count": 78,
     "metadata": {},
     "output_type": "execute_result"
    }
   ],
   "source": [
    "# Пропуски в Income, 24 пропуска. Обработаем их через медиану.\n",
    "# Среднее значение было бы искажено на выбросы, которые мы обработаем позже.\n",
    "# На медианное значение выбросы не влияют, поэтому мы можем использовать её.\n",
    "\n",
    "df.isnull().sum()\n",
    "\n",
    "df['Income'] = df['Income'].fillna(df['Income'].median())\n",
    "\n",
    "df.isnull().sum()\n"
   ]
  },
  {
   "cell_type": "markdown",
   "metadata": {
    "pycharm": {
     "name": "#%% md\n"
    }
   },
   "source": [
    "Исследуйте данные на предмет выбросов и удалите их, если они есть. Если выбросы есть - продемонстрируйте это численно и с помощью визуализаций. Прокомментируйте, как вы ищете выбросы, и почему их стоит удалить."
   ]
  },
  {
   "cell_type": "code",
   "execution_count": 79,
   "metadata": {
    "pycharm": {
     "name": "#%%\n"
    }
   },
   "outputs": [
    {
     "data": {
      "image/png": "[encoded data removed]",
      "text/plain": [
       "<Figure size 1440x360 with 1 Axes>"
      ]
     },
     "metadata": {
      "needs_background": "light"
     },
     "output_type": "display_data"
    },
    {
     "data": {
      "image/png": "[encoded data removed]",
      "text/plain": [
       "<Figure size 720x864 with 1 Axes>"
      ]
     },
     "metadata": {
      "needs_background": "light"
     },
     "output_type": "display_data"
    },
    {
     "data": {
      "image/png": "[encoded data removed]",
      "text/plain": [
       "<Figure size 1440x360 with 1 Axes>"
      ]
     },
     "metadata": {
      "needs_background": "light"
     },
     "output_type": "display_data"
    }
   ],
   "source": [
    "# Ваш код и комментарий\n",
    "import matplotlib.pyplot as plt\n",
    "import numpy as np\n",
    "import seaborn as sns\n",
    "\n",
    "fig = plt.gcf()\n",
    "fig.set_size_inches(20, 5)\n",
    "cx = sns.boxplot(x=df['Income'])\n",
    "plt.show()\n",
    "\n",
    "fig = plt.gcf()\n",
    "fig.set_size_inches(10, 12)\n",
    "Mnts = df[['MntWines', 'MntFruits', 'MntMeatProducts', 'MntFishProducts', 'MntSweetProducts', 'MntGoldProds']]\n",
    "ax = sns.boxplot(data=Mnts)\n",
    "plt.show()\n",
    "\n",
    "fig = plt.gcf()\n",
    "fig.set_size_inches(20, 5)\n",
    "Homes = df[['Kidhome', 'Teenhome']]\n",
    "bx = sns.boxplot(data=Homes)\n",
    "plt.show()\n",
    "\n",
    "# Выбросы есть в переменной Income (очень сильно отличающиеся от средних значений)\n",
    "# А также во всех переменных Mnt, особенно в переменной MntMeatProducts\n",
    "# Ящик с усами - один из наиболее распространённых методов визуализации выбросов\n",
    "# Опирается на работу с квартилями. Всё, что выходит за нижний и верхний квартиль (\"усы\") - выбросы\n",
    "# Выбросы мешают оценить данные с точки зрения статистики, так как искажают среднее значение.\n",
    "# Выбросы не влияют на медиану, но искажают значение среднего.\n",
    "# Чтобы этого избежать, необходимо избавиться от выбросов.\n",
    "# Для построения ящиков использованы методы библиотеки Seaborn:\n",
    "# https://seaborn.pydata.org/generated/seaborn.boxplot.html\n",
    "\n",
    "# Удаление выбросов\n",
    "\n",
    "Q1 = np.percentile(df['Income'], 25,\n",
    "                   method = 'midpoint')\n",
    " \n",
    "Q3 = np.percentile(df['Income'], 75,\n",
    "                   method = 'midpoint')\n",
    "IQR = Q3 - Q1\n",
    "upper = Q3 + 1.5*IQR\n",
    "lower = Q1 - 1.5*IQR\n",
    "\n",
    "df = df[(df['Income']>=lower)&(df['Income']<=upper)]\n",
    "\n",
    "#\n",
    "Q1 = np.percentile(Mnts, 25,\n",
    "                   method = 'midpoint')\n",
    " \n",
    "Q3 = np.percentile(Mnts, 75,\n",
    "                   method = 'midpoint')\n",
    "IQR = Q3 - Q1\n",
    "upper = Q3 + 1.5*IQR\n",
    "lower = Q1 - 1.5*IQR\n",
    "\n",
    "df = df[(Mnts>=lower)&(Mnts<=upper)]\n",
    "\n",
    "#\n",
    "Q1 = np.percentile(Homes, 25,\n",
    "                   method = 'midpoint')\n",
    " \n",
    "Q3 = np.percentile(Homes, 75,\n",
    "                   method = 'midpoint')\n",
    "IQR = Q3 - Q1\n",
    "upper = Q3 + 1.5*IQR\n",
    "lower = Q1 - 1.5*IQR\n",
    "\n",
    "df = df[(Homes>=lower)&(Homes<=upper)]\n",
    "\n",
    "# fig = plt.gcf()\n",
    "# fig.set_size_inches(20, 5)\n",
    "# cx = sns.boxplot(x=df['Income'])\n",
    "# plt.show()\n",
    "\n",
    "# fig = plt.gcf()\n",
    "# fig.set_size_inches(10, 12)\n",
    "# ax = sns.boxplot(data=Mnts)\n",
    "# plt.show()\n",
    "\n",
    "# fig = plt.gcf()\n",
    "# fig.set_size_inches(20, 5)\n",
    "# bx = sns.boxplot(data=Homes)\n",
    "# plt.show()"
   ]
  },
  {
   "cell_type": "markdown",
   "metadata": {
    "pycharm": {
     "name": "#%% md\n"
    }
   },
   "source": [
    "## Задание 3 (1 балл): новые признаки"
   ]
  },
  {
   "cell_type": "markdown",
   "metadata": {
    "pycharm": {
     "name": "#%% md\n"
    }
   },
   "source": [
    "Подумайте, какие осмысленные признаки можно создать из имеющихся? Придумайте как минимум 2 и добавьте их, содержательно описав, почему вы их добавляете и по какому принципу."
   ]
  },
  {
   "cell_type": "code",
   "execution_count": 82,
   "metadata": {
    "pycharm": {
     "name": "#%%\n"
    }
   },
   "outputs": [],
   "source": [
    "# Ваш код и комментарий"
   ]
  },
  {
   "cell_type": "markdown",
   "metadata": {
    "pycharm": {
     "name": "#%% md\n"
    }
   },
   "source": [
    "## Задание 4 (2.5 балла): время статистики!"
   ]
  },
  {
   "cell_type": "markdown",
   "metadata": {
    "pycharm": {
     "name": "#%% md\n"
    }
   },
   "source": [
    "Рассчитайте все описательные статистики для категориальных переменных (есть специальный метод, который выводит все доступные статистики разом - это то, что нужно!). Опишите, какие выводы вы можете сделать из полученных данных."
   ]
  },
  {
   "cell_type": "code",
   "execution_count": null,
   "metadata": {
    "pycharm": {
     "name": "#%%\n"
    }
   },
   "outputs": [],
   "source": [
    "# Ваш код и комментарий"
   ]
  },
  {
   "cell_type": "markdown",
   "metadata": {
    "pycharm": {
     "name": "#%% md\n"
    }
   },
   "source": [
    "Рассчитайте все описательные статистики для количественных переменных.  (есть специальный метод, который выводит все доступные статистики разом - это то, что нужно!) Опишите, какие выводы вы можете сделать из полученных данных (хотя бы про какие-то 3 признака)."
   ]
  },
  {
   "cell_type": "code",
   "execution_count": null,
   "metadata": {
    "pycharm": {
     "name": "#%%\n"
    }
   },
   "outputs": [],
   "source": [
    "# Ваш код и комментарий"
   ]
  },
  {
   "cell_type": "markdown",
   "metadata": {
    "pycharm": {
     "name": "#%% md\n"
    }
   },
   "source": [
    "Выберите 3 интересующих вас количественных признака и рассчитайте релевантные с вашей точки зрения описательные статистики для этих признаков, сгруппировав данные по семейному положению, образованию, стране. Какие закономерности вы можете отметить? Как их можно проинтерпретировать? "
   ]
  },
  {
   "cell_type": "code",
   "execution_count": null,
   "metadata": {
    "pycharm": {
     "name": "#%%\n"
    }
   },
   "outputs": [],
   "source": [
    "# Ваш код и комментарий"
   ]
  },
  {
   "cell_type": "markdown",
   "metadata": {
    "pycharm": {
     "name": "#%% md\n"
    }
   },
   "source": [
    "## Задание 5 (1 балл): корреляции"
   ]
  },
  {
   "cell_type": "markdown",
   "metadata": {
    "pycharm": {
     "name": "#%% md\n"
    }
   },
   "source": [
    "Найдите три самых сильных линейных взаимосвязи.Опишите, между какими признаками вы их нашли и содержательно проинтерпретируйте, почему (с вашей точки зрения) эти показатели связаны. \n",
    "\n",
    "_важно: необходимо вывести именно с помощью кода 3 пары самых сильно скоррелированных признака, а не искать их глазами в матрице корреляций_"
   ]
  },
  {
   "cell_type": "code",
   "execution_count": null,
   "metadata": {
    "pycharm": {
     "name": "#%%\n"
    }
   },
   "outputs": [],
   "source": [
    "# Ваш код и комментарий"
   ]
  },
  {
   "cell_type": "markdown",
   "metadata": {
    "pycharm": {
     "name": "#%% md\n"
    }
   },
   "source": [
    "## Задание 6 (2 балла) : визуализации"
   ]
  },
  {
   "cell_type": "markdown",
   "metadata": {
    "pycharm": {
     "name": "#%% md\n"
    }
   },
   "source": [
    "Придумайте и постройте как минимум 6 содержательных визуализаций, которые будут иллюстрировать те или иные выводы, которые вы сделали на основе данных. К каждой визуализации должна прилагаться содержательная текстовая интерпретация. Каждая визуализация должна быть грамотно оформлена, с соблюдением всем правил. Необходимо задействовать не менее 4 типов диаграмм. "
   ]
  },
  {
   "cell_type": "code",
   "execution_count": null,
   "metadata": {
    "pycharm": {
     "name": "#%%\n"
    }
   },
   "outputs": [],
   "source": [
    "# Ваш код и комментарий"
   ]
  },
  {
   "cell_type": "markdown",
   "metadata": {
    "pycharm": {
     "name": "#%% md\n"
    }
   },
   "source": [
    "## Задание 7 (1 балл): немного исследований"
   ]
  },
  {
   "cell_type": "markdown",
   "metadata": {
    "pycharm": {
     "name": "#%% md\n"
    }
   },
   "source": [
    "Попробуйте найти в данных какую-то классную интересную особенность. Может быть, рыбу едят только неженатые? Или самый большой заработок и потребление фруктов у людей без образования? Приведите все расчеты, и визуализации для обнаруженного факта. Он должен быть правда интересным и удивлять! Попробуйте описать, почему (как вам кажется) так получилось."
   ]
  },
  {
   "cell_type": "code",
   "execution_count": null,
   "metadata": {
    "pycharm": {
     "name": "#%%\n"
    }
   },
   "outputs": [],
   "source": [
    "# Ваш код и комментарий"
   ]
  }
 ],
 "metadata": {
  "kernelspec": {
   "display_name": "Python 3",
   "language": "python",
   "name": "python3"
  },
  "language_info": {
   "codemirror_mode": {
    "name": "ipython",
    "version": 3
   },
   "file_extension": ".py",
   "mimetype": "text/x-python",
   "name": "python",
   "nbconvert_exporter": "python",
   "pygments_lexer": "ipython3",
   "version": "3.8.10"
  }
 },
 "nbformat": 4,
 "nbformat_minor": 5
}
